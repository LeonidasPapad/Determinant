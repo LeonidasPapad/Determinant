{
 "cells": [
  {
   "cell_type": "code",
   "execution_count": 1,
   "id": "3cc76860",
   "metadata": {},
   "outputs": [],
   "source": [
    "def det(a):\n",
    "    n = len(a)\n",
    "    sign=0\n",
    "    for i in range(n):\n",
    "        \n",
    "        if a[i][i]!=0:\n",
    "            continue\n",
    "        for j in range(i+1,n):\n",
    "            if a[j][i]!=0:\n",
    "                a[j],a[i]=a[i],a[j]\n",
    "                sign+=1\n",
    "                break\n",
    "        else:\n",
    "            return 0\n",
    "                    \n",
    "    i=0\n",
    "    \n",
    "    \n",
    "    for j in range(0,n-1):\n",
    "        \n",
    "        if i>n-1:\n",
    "            break\n",
    "            \n",
    "        \n",
    "        \n",
    "        for k in range(i+1,n):\n",
    "            \n",
    "      \n",
    "            coeff = a[k][i]/a[i][i]\n",
    "            \n",
    "            for l in range(n):\n",
    "                \n",
    "                a[k][l]-=a[i][l]*coeff\n",
    "        \n",
    "        for k in range(i+1,n):\n",
    "            \n",
    "            \n",
    "                \n",
    "            coeff= a[i][k]/a[i][i]\n",
    "            for l in range(n):\n",
    "                a[l][k]-=a[l][i]*coeff\n",
    "        \n",
    "        i=i+1\n",
    "        \n",
    "        if i>n-1:\n",
    "            break\n",
    "            \n",
    "        \n",
    "        if a[i][i]==0:\n",
    "            for g in range(i+1,n):\n",
    "                if a[g][i]!=0:\n",
    "                    a[g],a[i]=a[i],a[g]\n",
    "                    sign+=1\n",
    "                    break\n",
    "            else:\n",
    "                return 0\n",
    "        \n",
    "        \n",
    "    if sign%2==1:\n",
    "        sign=-1\n",
    "    else:\n",
    "        sign=1\n",
    "        \n",
    "    \n",
    "    for i in range(n):\n",
    "        sign= sign*a[i][i]\n",
    "    \n",
    "    \n",
    "    return int(sign)\n",
    "    \n",
    "    "
   ]
  },
  {
   "cell_type": "code",
   "execution_count": 12,
   "id": "0b3bcfd7",
   "metadata": {},
   "outputs": [],
   "source": [
    "import random\n",
    "import numpy as np\n",
    "a = [[random.randint(1,10) for i in range(10)] for j in range(10)]"
   ]
  },
  {
   "cell_type": "code",
   "execution_count": 13,
   "id": "97c35290",
   "metadata": {},
   "outputs": [],
   "source": [
    "import numpy as np"
   ]
  },
  {
   "cell_type": "code",
   "execution_count": 14,
   "id": "e87990bd",
   "metadata": {},
   "outputs": [
    {
     "name": "stdout",
     "output_type": "stream",
     "text": [
      "CPU times: total: 0 ns\n",
      "Wall time: 0 ns\n"
     ]
    },
    {
     "data": {
      "text/plain": [
       "150704799"
      ]
     },
     "execution_count": 14,
     "metadata": {},
     "output_type": "execute_result"
    }
   ],
   "source": [
    "%%time\n",
    "det(a)"
   ]
  },
  {
   "cell_type": "code",
   "execution_count": 15,
   "id": "e5316450",
   "metadata": {},
   "outputs": [],
   "source": [
    "#Its internally implemented, the reason why the numpy library runs faster"
   ]
  },
  {
   "cell_type": "code",
   "execution_count": 16,
   "id": "d340883d",
   "metadata": {},
   "outputs": [
    {
     "name": "stdout",
     "output_type": "stream",
     "text": [
      "CPU times: total: 0 ns\n",
      "Wall time: 572 µs\n"
     ]
    },
    {
     "data": {
      "text/plain": [
       "150704799"
      ]
     },
     "execution_count": 16,
     "metadata": {},
     "output_type": "execute_result"
    }
   ],
   "source": [
    "%%time\n",
    "a = np.array(a)\n",
    "int(np.linalg.det(a))"
   ]
  },
  {
   "cell_type": "code",
   "execution_count": 13,
   "id": "4ebf81af",
   "metadata": {},
   "outputs": [
    {
     "data": {
      "text/plain": [
       "True"
      ]
     },
     "execution_count": 13,
     "metadata": {},
     "output_type": "execute_result"
    }
   ],
   "source": [
    "-5.250189134651598e+90<2**1000"
   ]
  },
  {
   "cell_type": "code",
   "execution_count": 18,
   "id": "0b84e518",
   "metadata": {},
   "outputs": [
    {
     "data": {
      "text/plain": [
       "10715086071862673209484250490600018105614048117055336074437503883703510511249361224931983788156958581275946729175531468251871452856923140435984577574698574803934567774824230985421074605062371141877954182153046474983581941267398767559165543946077062914571196477686542167660429831652624386837205668069376"
      ]
     },
     "execution_count": 18,
     "metadata": {},
     "output_type": "execute_result"
    }
   ],
   "source": [
    "2**1000"
   ]
  },
  {
   "cell_type": "code",
   "execution_count": null,
   "id": "e2b1f407",
   "metadata": {},
   "outputs": [],
   "source": []
  }
 ],
 "metadata": {
  "kernelspec": {
   "display_name": "Python 3 (ipykernel)",
   "language": "python",
   "name": "python3"
  },
  "language_info": {
   "codemirror_mode": {
    "name": "ipython",
    "version": 3
   },
   "file_extension": ".py",
   "mimetype": "text/x-python",
   "name": "python",
   "nbconvert_exporter": "python",
   "pygments_lexer": "ipython3",
   "version": "3.10.4"
  }
 },
 "nbformat": 4,
 "nbformat_minor": 5
}
